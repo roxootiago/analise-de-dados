{
 "cells": [
  {
   "cell_type": "markdown",
   "metadata": {},
   "source": [
    "# Instruções iniciais\n",
    "\n",
    "1 - Siga as instruções de configuração do ambiente disponibilizadas no README da aula para preparar o seu sistema.\n",
    "\n",
    "2 - Baixar este arquivo no seu computador.\n",
    "\n",
    "3 - Utilize o ambiente virtual (venv) configurado como o kernel para este arquivo.\n",
    "\n",
    "obs.: Notebook da aula no Colab: https://drive.google.com/file/d/1BQjpb56UV2WDknXiocWdE1bmTtqeTkbr/view?usp=sharing\n",
    "\n",
    "### Carregando o conjunto de dados:"
   ]
  },
  {
   "cell_type": "code",
   "execution_count": 2,
   "metadata": {},
   "outputs": [],
   "source": [
    "import pandas as pd\n",
    "import requests\n",
    "from io import StringIO\n",
    "\n",
    "# Criação do dataFrame dos alunos\n",
    "# ID do arquivo no Google Drive\n",
    "file_id = '15aOJIGAyLMSY1gecjiCgu2ko_riIcKQy'\n",
    "\n",
    "# URL modificada para forçar o download do arquivo\n",
    "url = f\"https://drive.google.com/uc?id={file_id}\"\n",
    "\n",
    "# Tentando obter o arquivo com requests\n",
    "try:\n",
    "    response = requests.get(url)\n",
    "    response.raise_for_status()  # Lança um erro para respostas não-sucedidas\n",
    "    # Usando StringIO para converter o texto em um arquivo em memória e, então, lendo com o Pandas\n",
    "    csv_raw = StringIO(response.text)\n",
    "    estudantes = pd.read_csv(csv_raw)\n",
    "except requests.RequestException as e:\n",
    "    print(f\"Erro ao acessar o arquivo: {e}\")\n"
   ]
  },
  {
   "cell_type": "code",
   "execution_count": 3,
   "metadata": {},
   "outputs": [],
   "source": [
    "#Criação do dataFrame das escolas\n",
    "\n",
    "# ID do arquivo no Google Drive\n",
    "file_id = '1Jgto7psHaMRTAVzcFt7D6SgJiHMB7uGT'\n",
    "\n",
    "# URL modificada para forçar o download do arquivo\n",
    "url = f\"https://drive.google.com/uc?id={file_id}\"\n",
    "\n",
    "# Tentando obter o arquivo com requests\n",
    "try:\n",
    "    response = requests.get(url)\n",
    "    response.raise_for_status()  # Lança um erro para respostas não-sucedidas\n",
    "    # Usando StringIO para converter o texto em um arquivo em memória e, então, lendo com o Pandas\n",
    "    csv_raw = StringIO(response.text)\n",
    "    escolas = pd.read_csv(csv_raw)\n",
    "except requests.RequestException as e:\n",
    "    print(f\"Erro ao acessar o arquivo: {e}\")"
   ]
  },
  {
   "cell_type": "markdown",
   "metadata": {},
   "source": [
    "Analisando os dataframes\n",
    "\n",
    "1 - Escolas"
   ]
  },
  {
   "cell_type": "code",
   "execution_count": 4,
   "metadata": {},
   "outputs": [
    {
     "data": {
      "text/html": [
       "<div>\n",
       "<style scoped>\n",
       "    .dataframe tbody tr th:only-of-type {\n",
       "        vertical-align: middle;\n",
       "    }\n",
       "\n",
       "    .dataframe tbody tr th {\n",
       "        vertical-align: top;\n",
       "    }\n",
       "\n",
       "    .dataframe thead th {\n",
       "        text-align: right;\n",
       "    }\n",
       "</style>\n",
       "<table border=\"1\" class=\"dataframe\">\n",
       "  <thead>\n",
       "    <tr style=\"text-align: right;\">\n",
       "      <th></th>\n",
       "      <th>ID_Escola</th>\n",
       "      <th>Nome_Escola</th>\n",
       "      <th>Tipo_Escola</th>\n",
       "      <th>Numero_Alunos</th>\n",
       "      <th>Orcamento_Anual</th>\n",
       "    </tr>\n",
       "  </thead>\n",
       "  <tbody>\n",
       "    <tr>\n",
       "      <th>0</th>\n",
       "      <td>0</td>\n",
       "      <td>Escola A</td>\n",
       "      <td>Publica</td>\n",
       "      <td>2917</td>\n",
       "      <td>1910635</td>\n",
       "    </tr>\n",
       "    <tr>\n",
       "      <th>1</th>\n",
       "      <td>1</td>\n",
       "      <td>Escola B</td>\n",
       "      <td>Publica</td>\n",
       "      <td>2949</td>\n",
       "      <td>1884411</td>\n",
       "    </tr>\n",
       "    <tr>\n",
       "      <th>2</th>\n",
       "      <td>2</td>\n",
       "      <td>Escola C</td>\n",
       "      <td>Particular</td>\n",
       "      <td>1761</td>\n",
       "      <td>1056600</td>\n",
       "    </tr>\n",
       "    <tr>\n",
       "      <th>3</th>\n",
       "      <td>3</td>\n",
       "      <td>Escola D</td>\n",
       "      <td>Publica</td>\n",
       "      <td>4635</td>\n",
       "      <td>3022020</td>\n",
       "    </tr>\n",
       "    <tr>\n",
       "      <th>4</th>\n",
       "      <td>4</td>\n",
       "      <td>Escola E</td>\n",
       "      <td>Particular</td>\n",
       "      <td>1468</td>\n",
       "      <td>917500</td>\n",
       "    </tr>\n",
       "    <tr>\n",
       "      <th>5</th>\n",
       "      <td>5</td>\n",
       "      <td>Escola F</td>\n",
       "      <td>Particular</td>\n",
       "      <td>2283</td>\n",
       "      <td>1319574</td>\n",
       "    </tr>\n",
       "    <tr>\n",
       "      <th>6</th>\n",
       "      <td>6</td>\n",
       "      <td>Escola G</td>\n",
       "      <td>Particular</td>\n",
       "      <td>1858</td>\n",
       "      <td>1081356</td>\n",
       "    </tr>\n",
       "    <tr>\n",
       "      <th>7</th>\n",
       "      <td>7</td>\n",
       "      <td>Escola H</td>\n",
       "      <td>Publica</td>\n",
       "      <td>4976</td>\n",
       "      <td>3124928</td>\n",
       "    </tr>\n",
       "    <tr>\n",
       "      <th>8</th>\n",
       "      <td>8</td>\n",
       "      <td>Escola I</td>\n",
       "      <td>Particular</td>\n",
       "      <td>427</td>\n",
       "      <td>248087</td>\n",
       "    </tr>\n",
       "    <tr>\n",
       "      <th>9</th>\n",
       "      <td>9</td>\n",
       "      <td>Escola J</td>\n",
       "      <td>Particular</td>\n",
       "      <td>962</td>\n",
       "      <td>585858</td>\n",
       "    </tr>\n",
       "    <tr>\n",
       "      <th>10</th>\n",
       "      <td>10</td>\n",
       "      <td>Escola K</td>\n",
       "      <td>Particular</td>\n",
       "      <td>1800</td>\n",
       "      <td>1049400</td>\n",
       "    </tr>\n",
       "    <tr>\n",
       "      <th>11</th>\n",
       "      <td>11</td>\n",
       "      <td>Escola L</td>\n",
       "      <td>Publica</td>\n",
       "      <td>3999</td>\n",
       "      <td>2547363</td>\n",
       "    </tr>\n",
       "    <tr>\n",
       "      <th>12</th>\n",
       "      <td>12</td>\n",
       "      <td>Escola M</td>\n",
       "      <td>Publica</td>\n",
       "      <td>4761</td>\n",
       "      <td>3094650</td>\n",
       "    </tr>\n",
       "    <tr>\n",
       "      <th>13</th>\n",
       "      <td>13</td>\n",
       "      <td>Escola N</td>\n",
       "      <td>Publica</td>\n",
       "      <td>2739</td>\n",
       "      <td>1763916</td>\n",
       "    </tr>\n",
       "    <tr>\n",
       "      <th>14</th>\n",
       "      <td>14</td>\n",
       "      <td>Escola O</td>\n",
       "      <td>Particular</td>\n",
       "      <td>1635</td>\n",
       "      <td>1043130</td>\n",
       "    </tr>\n",
       "  </tbody>\n",
       "</table>\n",
       "</div>"
      ],
      "text/plain": [
       "    ID_Escola Nome_Escola Tipo_Escola  Numero_Alunos  Orcamento_Anual\n",
       "0           0    Escola A     Publica           2917          1910635\n",
       "1           1    Escola B     Publica           2949          1884411\n",
       "2           2    Escola C  Particular           1761          1056600\n",
       "3           3    Escola D     Publica           4635          3022020\n",
       "4           4    Escola E  Particular           1468           917500\n",
       "5           5    Escola F  Particular           2283          1319574\n",
       "6           6    Escola G  Particular           1858          1081356\n",
       "7           7    Escola H     Publica           4976          3124928\n",
       "8           8    Escola I  Particular            427           248087\n",
       "9           9    Escola J  Particular            962           585858\n",
       "10         10    Escola K  Particular           1800          1049400\n",
       "11         11    Escola L     Publica           3999          2547363\n",
       "12         12    Escola M     Publica           4761          3094650\n",
       "13         13    Escola N     Publica           2739          1763916\n",
       "14         14    Escola O  Particular           1635          1043130"
      ]
     },
     "execution_count": 4,
     "metadata": {},
     "output_type": "execute_result"
    }
   ],
   "source": [
    "escolas"
   ]
  },
  {
   "cell_type": "markdown",
   "metadata": {},
   "source": [
    "2 - Estudantes"
   ]
  },
  {
   "cell_type": "code",
   "execution_count": 5,
   "metadata": {},
   "outputs": [
    {
     "data": {
      "text/html": [
       "<div>\n",
       "<style scoped>\n",
       "    .dataframe tbody tr th:only-of-type {\n",
       "        vertical-align: middle;\n",
       "    }\n",
       "\n",
       "    .dataframe tbody tr th {\n",
       "        vertical-align: top;\n",
       "    }\n",
       "\n",
       "    .dataframe thead th {\n",
       "        text-align: right;\n",
       "    }\n",
       "</style>\n",
       "<table border=\"1\" class=\"dataframe\">\n",
       "  <thead>\n",
       "    <tr style=\"text-align: right;\">\n",
       "      <th></th>\n",
       "      <th>ID_Estudante</th>\n",
       "      <th>Nome_Estudante</th>\n",
       "      <th>Genero</th>\n",
       "      <th>Serie</th>\n",
       "      <th>Nome_Escola</th>\n",
       "      <th>Nota_Redacao</th>\n",
       "      <th>Nota_Matematica</th>\n",
       "    </tr>\n",
       "  </thead>\n",
       "  <tbody>\n",
       "    <tr>\n",
       "      <th>0</th>\n",
       "      <td>0</td>\n",
       "      <td>Kevin Bradley</td>\n",
       "      <td>M</td>\n",
       "      <td>6</td>\n",
       "      <td>Escola A</td>\n",
       "      <td>66</td>\n",
       "      <td>79</td>\n",
       "    </tr>\n",
       "    <tr>\n",
       "      <th>1</th>\n",
       "      <td>1</td>\n",
       "      <td>Paul Smith</td>\n",
       "      <td>M</td>\n",
       "      <td>9</td>\n",
       "      <td>Escola A</td>\n",
       "      <td>94</td>\n",
       "      <td>61</td>\n",
       "    </tr>\n",
       "    <tr>\n",
       "      <th>2</th>\n",
       "      <td>2</td>\n",
       "      <td>John Rodriguez</td>\n",
       "      <td>M</td>\n",
       "      <td>9</td>\n",
       "      <td>Escola A</td>\n",
       "      <td>90</td>\n",
       "      <td>60</td>\n",
       "    </tr>\n",
       "    <tr>\n",
       "      <th>3</th>\n",
       "      <td>3</td>\n",
       "      <td>Oliver Scott</td>\n",
       "      <td>M</td>\n",
       "      <td>9</td>\n",
       "      <td>Escola A</td>\n",
       "      <td>67</td>\n",
       "      <td>58</td>\n",
       "    </tr>\n",
       "    <tr>\n",
       "      <th>4</th>\n",
       "      <td>4</td>\n",
       "      <td>William Ray</td>\n",
       "      <td>F</td>\n",
       "      <td>6</td>\n",
       "      <td>Escola A</td>\n",
       "      <td>97</td>\n",
       "      <td>84</td>\n",
       "    </tr>\n",
       "    <tr>\n",
       "      <th>...</th>\n",
       "      <td>...</td>\n",
       "      <td>...</td>\n",
       "      <td>...</td>\n",
       "      <td>...</td>\n",
       "      <td>...</td>\n",
       "      <td>...</td>\n",
       "      <td>...</td>\n",
       "    </tr>\n",
       "    <tr>\n",
       "      <th>39155</th>\n",
       "      <td>39155</td>\n",
       "      <td>John Brooks</td>\n",
       "      <td>M</td>\n",
       "      <td>7</td>\n",
       "      <td>Escola O</td>\n",
       "      <td>92</td>\n",
       "      <td>98</td>\n",
       "    </tr>\n",
       "    <tr>\n",
       "      <th>39156</th>\n",
       "      <td>39156</td>\n",
       "      <td>Stephanie Contreras</td>\n",
       "      <td>F</td>\n",
       "      <td>8</td>\n",
       "      <td>Escola O</td>\n",
       "      <td>79</td>\n",
       "      <td>95</td>\n",
       "    </tr>\n",
       "    <tr>\n",
       "      <th>39157</th>\n",
       "      <td>39157</td>\n",
       "      <td>Kristen Gonzalez</td>\n",
       "      <td>F</td>\n",
       "      <td>6</td>\n",
       "      <td>Escola O</td>\n",
       "      <td>79</td>\n",
       "      <td>94</td>\n",
       "    </tr>\n",
       "    <tr>\n",
       "      <th>39158</th>\n",
       "      <td>39158</td>\n",
       "      <td>Kari Holloway</td>\n",
       "      <td>F</td>\n",
       "      <td>7</td>\n",
       "      <td>Escola O</td>\n",
       "      <td>87</td>\n",
       "      <td>90</td>\n",
       "    </tr>\n",
       "    <tr>\n",
       "      <th>39159</th>\n",
       "      <td>39159</td>\n",
       "      <td>Kimberly Cabrera</td>\n",
       "      <td>F</td>\n",
       "      <td>8</td>\n",
       "      <td>Escola O</td>\n",
       "      <td>85</td>\n",
       "      <td>72</td>\n",
       "    </tr>\n",
       "  </tbody>\n",
       "</table>\n",
       "<p>39160 rows × 7 columns</p>\n",
       "</div>"
      ],
      "text/plain": [
       "       ID_Estudante       Nome_Estudante Genero  Serie Nome_Escola  \\\n",
       "0                 0        Kevin Bradley      M      6    Escola A   \n",
       "1                 1           Paul Smith      M      9    Escola A   \n",
       "2                 2       John Rodriguez      M      9    Escola A   \n",
       "3                 3         Oliver Scott      M      9    Escola A   \n",
       "4                 4          William Ray      F      6    Escola A   \n",
       "...             ...                  ...    ...    ...         ...   \n",
       "39155         39155          John Brooks      M      7    Escola O   \n",
       "39156         39156  Stephanie Contreras      F      8    Escola O   \n",
       "39157         39157     Kristen Gonzalez      F      6    Escola O   \n",
       "39158         39158        Kari Holloway      F      7    Escola O   \n",
       "39159         39159     Kimberly Cabrera      F      8    Escola O   \n",
       "\n",
       "       Nota_Redacao  Nota_Matematica  \n",
       "0                66               79  \n",
       "1                94               61  \n",
       "2                90               60  \n",
       "3                67               58  \n",
       "4                97               84  \n",
       "...             ...              ...  \n",
       "39155            92               98  \n",
       "39156            79               95  \n",
       "39157            79               94  \n",
       "39158            87               90  \n",
       "39159            85               72  \n",
       "\n",
       "[39160 rows x 7 columns]"
      ]
     },
     "execution_count": 5,
     "metadata": {},
     "output_type": "execute_result"
    }
   ],
   "source": [
    "estudantes"
   ]
  },
  {
   "cell_type": "markdown",
   "metadata": {},
   "source": [
    "Perguntas:\n",
    "\n",
    "Existem dados faltantes nas tabelas? \n",
    "\n",
    "R: .\n",
    "\n",
    "Existe algo em comum nas duas tabelas? \n",
    "\n",
    "R: .\n",
    "\n",
    "### Combinando os datasets"
   ]
  },
  {
   "cell_type": "code",
   "execution_count": 6,
   "metadata": {},
   "outputs": [
    {
     "data": {
      "text/plain": [
       "ID_Estudante       0\n",
       "Nome_Estudante     0\n",
       "Genero             0\n",
       "Serie              0\n",
       "Nome_Escola        0\n",
       "Nota_Redacao       0\n",
       "Nota_Matematica    0\n",
       "dtype: int64"
      ]
     },
     "execution_count": 6,
     "metadata": {},
     "output_type": "execute_result"
    }
   ],
   "source": [
    "estudantes.isnull().sum()"
   ]
  },
  {
   "cell_type": "code",
   "execution_count": 7,
   "metadata": {},
   "outputs": [
    {
     "data": {
      "text/plain": [
       "ID_Estudante       0\n",
       "Nome_Estudante     0\n",
       "Genero             0\n",
       "Serie              0\n",
       "Nome_Escola        0\n",
       "Nota_Redacao       0\n",
       "Nota_Matematica    0\n",
       "dtype: int64"
      ]
     },
     "execution_count": 7,
     "metadata": {},
     "output_type": "execute_result"
    }
   ],
   "source": [
    "estudantes.isna().sum()"
   ]
  },
  {
   "cell_type": "markdown",
   "metadata": {},
   "source": [
    "As colunas Genero, Serie e Tipo Escola representam dados categóricos. Como podemos verificar a quantidade de valores distintos que existem em cada categoria? "
   ]
  },
  {
   "cell_type": "markdown",
   "metadata": {},
   "source": [
    "## Left join no pandas"
   ]
  },
  {
   "cell_type": "code",
   "execution_count": 8,
   "metadata": {},
   "outputs": [
    {
     "data": {
      "text/html": [
       "<div>\n",
       "<style scoped>\n",
       "    .dataframe tbody tr th:only-of-type {\n",
       "        vertical-align: middle;\n",
       "    }\n",
       "\n",
       "    .dataframe tbody tr th {\n",
       "        vertical-align: top;\n",
       "    }\n",
       "\n",
       "    .dataframe thead th {\n",
       "        text-align: right;\n",
       "    }\n",
       "</style>\n",
       "<table border=\"1\" class=\"dataframe\">\n",
       "  <thead>\n",
       "    <tr style=\"text-align: right;\">\n",
       "      <th></th>\n",
       "      <th>ID_Estudante</th>\n",
       "      <th>Nome_Estudante</th>\n",
       "      <th>Genero</th>\n",
       "      <th>Serie</th>\n",
       "      <th>Nome_Escola</th>\n",
       "      <th>Nota_Redacao</th>\n",
       "      <th>Nota_Matematica</th>\n",
       "      <th>ID_Escola</th>\n",
       "      <th>Tipo_Escola</th>\n",
       "      <th>Numero_Alunos</th>\n",
       "      <th>Orcamento_Anual</th>\n",
       "    </tr>\n",
       "  </thead>\n",
       "  <tbody>\n",
       "    <tr>\n",
       "      <th>0</th>\n",
       "      <td>0</td>\n",
       "      <td>Kevin Bradley</td>\n",
       "      <td>M</td>\n",
       "      <td>6</td>\n",
       "      <td>Escola A</td>\n",
       "      <td>66</td>\n",
       "      <td>79</td>\n",
       "      <td>0</td>\n",
       "      <td>Publica</td>\n",
       "      <td>2917</td>\n",
       "      <td>1910635</td>\n",
       "    </tr>\n",
       "    <tr>\n",
       "      <th>1</th>\n",
       "      <td>1</td>\n",
       "      <td>Paul Smith</td>\n",
       "      <td>M</td>\n",
       "      <td>9</td>\n",
       "      <td>Escola A</td>\n",
       "      <td>94</td>\n",
       "      <td>61</td>\n",
       "      <td>0</td>\n",
       "      <td>Publica</td>\n",
       "      <td>2917</td>\n",
       "      <td>1910635</td>\n",
       "    </tr>\n",
       "    <tr>\n",
       "      <th>2</th>\n",
       "      <td>2</td>\n",
       "      <td>John Rodriguez</td>\n",
       "      <td>M</td>\n",
       "      <td>9</td>\n",
       "      <td>Escola A</td>\n",
       "      <td>90</td>\n",
       "      <td>60</td>\n",
       "      <td>0</td>\n",
       "      <td>Publica</td>\n",
       "      <td>2917</td>\n",
       "      <td>1910635</td>\n",
       "    </tr>\n",
       "    <tr>\n",
       "      <th>3</th>\n",
       "      <td>3</td>\n",
       "      <td>Oliver Scott</td>\n",
       "      <td>M</td>\n",
       "      <td>9</td>\n",
       "      <td>Escola A</td>\n",
       "      <td>67</td>\n",
       "      <td>58</td>\n",
       "      <td>0</td>\n",
       "      <td>Publica</td>\n",
       "      <td>2917</td>\n",
       "      <td>1910635</td>\n",
       "    </tr>\n",
       "    <tr>\n",
       "      <th>4</th>\n",
       "      <td>4</td>\n",
       "      <td>William Ray</td>\n",
       "      <td>F</td>\n",
       "      <td>6</td>\n",
       "      <td>Escola A</td>\n",
       "      <td>97</td>\n",
       "      <td>84</td>\n",
       "      <td>0</td>\n",
       "      <td>Publica</td>\n",
       "      <td>2917</td>\n",
       "      <td>1910635</td>\n",
       "    </tr>\n",
       "    <tr>\n",
       "      <th>...</th>\n",
       "      <td>...</td>\n",
       "      <td>...</td>\n",
       "      <td>...</td>\n",
       "      <td>...</td>\n",
       "      <td>...</td>\n",
       "      <td>...</td>\n",
       "      <td>...</td>\n",
       "      <td>...</td>\n",
       "      <td>...</td>\n",
       "      <td>...</td>\n",
       "      <td>...</td>\n",
       "    </tr>\n",
       "    <tr>\n",
       "      <th>39155</th>\n",
       "      <td>39155</td>\n",
       "      <td>John Brooks</td>\n",
       "      <td>M</td>\n",
       "      <td>7</td>\n",
       "      <td>Escola O</td>\n",
       "      <td>92</td>\n",
       "      <td>98</td>\n",
       "      <td>14</td>\n",
       "      <td>Particular</td>\n",
       "      <td>1635</td>\n",
       "      <td>1043130</td>\n",
       "    </tr>\n",
       "    <tr>\n",
       "      <th>39156</th>\n",
       "      <td>39156</td>\n",
       "      <td>Stephanie Contreras</td>\n",
       "      <td>F</td>\n",
       "      <td>8</td>\n",
       "      <td>Escola O</td>\n",
       "      <td>79</td>\n",
       "      <td>95</td>\n",
       "      <td>14</td>\n",
       "      <td>Particular</td>\n",
       "      <td>1635</td>\n",
       "      <td>1043130</td>\n",
       "    </tr>\n",
       "    <tr>\n",
       "      <th>39157</th>\n",
       "      <td>39157</td>\n",
       "      <td>Kristen Gonzalez</td>\n",
       "      <td>F</td>\n",
       "      <td>6</td>\n",
       "      <td>Escola O</td>\n",
       "      <td>79</td>\n",
       "      <td>94</td>\n",
       "      <td>14</td>\n",
       "      <td>Particular</td>\n",
       "      <td>1635</td>\n",
       "      <td>1043130</td>\n",
       "    </tr>\n",
       "    <tr>\n",
       "      <th>39158</th>\n",
       "      <td>39158</td>\n",
       "      <td>Kari Holloway</td>\n",
       "      <td>F</td>\n",
       "      <td>7</td>\n",
       "      <td>Escola O</td>\n",
       "      <td>87</td>\n",
       "      <td>90</td>\n",
       "      <td>14</td>\n",
       "      <td>Particular</td>\n",
       "      <td>1635</td>\n",
       "      <td>1043130</td>\n",
       "    </tr>\n",
       "    <tr>\n",
       "      <th>39159</th>\n",
       "      <td>39159</td>\n",
       "      <td>Kimberly Cabrera</td>\n",
       "      <td>F</td>\n",
       "      <td>8</td>\n",
       "      <td>Escola O</td>\n",
       "      <td>85</td>\n",
       "      <td>72</td>\n",
       "      <td>14</td>\n",
       "      <td>Particular</td>\n",
       "      <td>1635</td>\n",
       "      <td>1043130</td>\n",
       "    </tr>\n",
       "  </tbody>\n",
       "</table>\n",
       "<p>39160 rows × 11 columns</p>\n",
       "</div>"
      ],
      "text/plain": [
       "       ID_Estudante       Nome_Estudante Genero  Serie Nome_Escola  \\\n",
       "0                 0        Kevin Bradley      M      6    Escola A   \n",
       "1                 1           Paul Smith      M      9    Escola A   \n",
       "2                 2       John Rodriguez      M      9    Escola A   \n",
       "3                 3         Oliver Scott      M      9    Escola A   \n",
       "4                 4          William Ray      F      6    Escola A   \n",
       "...             ...                  ...    ...    ...         ...   \n",
       "39155         39155          John Brooks      M      7    Escola O   \n",
       "39156         39156  Stephanie Contreras      F      8    Escola O   \n",
       "39157         39157     Kristen Gonzalez      F      6    Escola O   \n",
       "39158         39158        Kari Holloway      F      7    Escola O   \n",
       "39159         39159     Kimberly Cabrera      F      8    Escola O   \n",
       "\n",
       "       Nota_Redacao  Nota_Matematica  ID_Escola Tipo_Escola  Numero_Alunos  \\\n",
       "0                66               79          0     Publica           2917   \n",
       "1                94               61          0     Publica           2917   \n",
       "2                90               60          0     Publica           2917   \n",
       "3                67               58          0     Publica           2917   \n",
       "4                97               84          0     Publica           2917   \n",
       "...             ...              ...        ...         ...            ...   \n",
       "39155            92               98         14  Particular           1635   \n",
       "39156            79               95         14  Particular           1635   \n",
       "39157            79               94         14  Particular           1635   \n",
       "39158            87               90         14  Particular           1635   \n",
       "39159            85               72         14  Particular           1635   \n",
       "\n",
       "       Orcamento_Anual  \n",
       "0              1910635  \n",
       "1              1910635  \n",
       "2              1910635  \n",
       "3              1910635  \n",
       "4              1910635  \n",
       "...                ...  \n",
       "39155          1043130  \n",
       "39156          1043130  \n",
       "39157          1043130  \n",
       "39158          1043130  \n",
       "39159          1043130  \n",
       "\n",
       "[39160 rows x 11 columns]"
      ]
     },
     "execution_count": 8,
     "metadata": {},
     "output_type": "execute_result"
    }
   ],
   "source": [
    "data = pd.merge(\n",
    "    estudantes,\n",
    "    escolas,\n",
    "    how='left',\n",
    "    on=[\"Nome_Escola\",\"Nome_Escola\"]\n",
    ")\n",
    "\n",
    "data"
   ]
  },
  {
   "cell_type": "code",
   "execution_count": 10,
   "metadata": {},
   "outputs": [
    {
     "data": {
      "text/html": [
       "<div>\n",
       "<style scoped>\n",
       "    .dataframe tbody tr th:only-of-type {\n",
       "        vertical-align: middle;\n",
       "    }\n",
       "\n",
       "    .dataframe tbody tr th {\n",
       "        vertical-align: top;\n",
       "    }\n",
       "\n",
       "    .dataframe thead th {\n",
       "        text-align: right;\n",
       "    }\n",
       "</style>\n",
       "<table border=\"1\" class=\"dataframe\">\n",
       "  <thead>\n",
       "    <tr style=\"text-align: right;\">\n",
       "      <th></th>\n",
       "      <th>ID_Estudante</th>\n",
       "      <th>Nome_Estudante</th>\n",
       "      <th>Genero</th>\n",
       "      <th>Serie</th>\n",
       "      <th>Nome_Escola</th>\n",
       "      <th>Nota_Redacao</th>\n",
       "      <th>Nota_Matematica</th>\n",
       "      <th>ID_Escola</th>\n",
       "      <th>Tipo_Escola</th>\n",
       "      <th>Numero_Alunos</th>\n",
       "      <th>Orcamento_Anual</th>\n",
       "    </tr>\n",
       "  </thead>\n",
       "  <tbody>\n",
       "    <tr>\n",
       "      <th>0</th>\n",
       "      <td>0</td>\n",
       "      <td>Kevin Bradley</td>\n",
       "      <td>M</td>\n",
       "      <td>6</td>\n",
       "      <td>Escola A</td>\n",
       "      <td>66</td>\n",
       "      <td>79</td>\n",
       "      <td>0</td>\n",
       "      <td>Publica</td>\n",
       "      <td>2917</td>\n",
       "      <td>1910635</td>\n",
       "    </tr>\n",
       "    <tr>\n",
       "      <th>1</th>\n",
       "      <td>1</td>\n",
       "      <td>Paul Smith</td>\n",
       "      <td>M</td>\n",
       "      <td>9</td>\n",
       "      <td>Escola A</td>\n",
       "      <td>94</td>\n",
       "      <td>61</td>\n",
       "      <td>0</td>\n",
       "      <td>Publica</td>\n",
       "      <td>2917</td>\n",
       "      <td>1910635</td>\n",
       "    </tr>\n",
       "    <tr>\n",
       "      <th>2</th>\n",
       "      <td>2</td>\n",
       "      <td>John Rodriguez</td>\n",
       "      <td>M</td>\n",
       "      <td>9</td>\n",
       "      <td>Escola A</td>\n",
       "      <td>90</td>\n",
       "      <td>60</td>\n",
       "      <td>0</td>\n",
       "      <td>Publica</td>\n",
       "      <td>2917</td>\n",
       "      <td>1910635</td>\n",
       "    </tr>\n",
       "    <tr>\n",
       "      <th>3</th>\n",
       "      <td>3</td>\n",
       "      <td>Oliver Scott</td>\n",
       "      <td>M</td>\n",
       "      <td>9</td>\n",
       "      <td>Escola A</td>\n",
       "      <td>67</td>\n",
       "      <td>58</td>\n",
       "      <td>0</td>\n",
       "      <td>Publica</td>\n",
       "      <td>2917</td>\n",
       "      <td>1910635</td>\n",
       "    </tr>\n",
       "    <tr>\n",
       "      <th>4</th>\n",
       "      <td>4</td>\n",
       "      <td>William Ray</td>\n",
       "      <td>F</td>\n",
       "      <td>6</td>\n",
       "      <td>Escola A</td>\n",
       "      <td>97</td>\n",
       "      <td>84</td>\n",
       "      <td>0</td>\n",
       "      <td>Publica</td>\n",
       "      <td>2917</td>\n",
       "      <td>1910635</td>\n",
       "    </tr>\n",
       "    <tr>\n",
       "      <th>...</th>\n",
       "      <td>...</td>\n",
       "      <td>...</td>\n",
       "      <td>...</td>\n",
       "      <td>...</td>\n",
       "      <td>...</td>\n",
       "      <td>...</td>\n",
       "      <td>...</td>\n",
       "      <td>...</td>\n",
       "      <td>...</td>\n",
       "      <td>...</td>\n",
       "      <td>...</td>\n",
       "    </tr>\n",
       "    <tr>\n",
       "      <th>39155</th>\n",
       "      <td>39155</td>\n",
       "      <td>John Brooks</td>\n",
       "      <td>M</td>\n",
       "      <td>7</td>\n",
       "      <td>Escola O</td>\n",
       "      <td>92</td>\n",
       "      <td>98</td>\n",
       "      <td>14</td>\n",
       "      <td>Particular</td>\n",
       "      <td>1635</td>\n",
       "      <td>1043130</td>\n",
       "    </tr>\n",
       "    <tr>\n",
       "      <th>39156</th>\n",
       "      <td>39156</td>\n",
       "      <td>Stephanie Contreras</td>\n",
       "      <td>F</td>\n",
       "      <td>8</td>\n",
       "      <td>Escola O</td>\n",
       "      <td>79</td>\n",
       "      <td>95</td>\n",
       "      <td>14</td>\n",
       "      <td>Particular</td>\n",
       "      <td>1635</td>\n",
       "      <td>1043130</td>\n",
       "    </tr>\n",
       "    <tr>\n",
       "      <th>39157</th>\n",
       "      <td>39157</td>\n",
       "      <td>Kristen Gonzalez</td>\n",
       "      <td>F</td>\n",
       "      <td>6</td>\n",
       "      <td>Escola O</td>\n",
       "      <td>79</td>\n",
       "      <td>94</td>\n",
       "      <td>14</td>\n",
       "      <td>Particular</td>\n",
       "      <td>1635</td>\n",
       "      <td>1043130</td>\n",
       "    </tr>\n",
       "    <tr>\n",
       "      <th>39158</th>\n",
       "      <td>39158</td>\n",
       "      <td>Kari Holloway</td>\n",
       "      <td>F</td>\n",
       "      <td>7</td>\n",
       "      <td>Escola O</td>\n",
       "      <td>87</td>\n",
       "      <td>90</td>\n",
       "      <td>14</td>\n",
       "      <td>Particular</td>\n",
       "      <td>1635</td>\n",
       "      <td>1043130</td>\n",
       "    </tr>\n",
       "    <tr>\n",
       "      <th>39159</th>\n",
       "      <td>39159</td>\n",
       "      <td>Kimberly Cabrera</td>\n",
       "      <td>F</td>\n",
       "      <td>8</td>\n",
       "      <td>Escola O</td>\n",
       "      <td>85</td>\n",
       "      <td>72</td>\n",
       "      <td>14</td>\n",
       "      <td>Particular</td>\n",
       "      <td>1635</td>\n",
       "      <td>1043130</td>\n",
       "    </tr>\n",
       "  </tbody>\n",
       "</table>\n",
       "<p>39160 rows × 11 columns</p>\n",
       "</div>"
      ],
      "text/plain": [
       "       ID_Estudante       Nome_Estudante Genero  Serie Nome_Escola  \\\n",
       "0                 0        Kevin Bradley      M      6    Escola A   \n",
       "1                 1           Paul Smith      M      9    Escola A   \n",
       "2                 2       John Rodriguez      M      9    Escola A   \n",
       "3                 3         Oliver Scott      M      9    Escola A   \n",
       "4                 4          William Ray      F      6    Escola A   \n",
       "...             ...                  ...    ...    ...         ...   \n",
       "39155         39155          John Brooks      M      7    Escola O   \n",
       "39156         39156  Stephanie Contreras      F      8    Escola O   \n",
       "39157         39157     Kristen Gonzalez      F      6    Escola O   \n",
       "39158         39158        Kari Holloway      F      7    Escola O   \n",
       "39159         39159     Kimberly Cabrera      F      8    Escola O   \n",
       "\n",
       "       Nota_Redacao  Nota_Matematica  ID_Escola Tipo_Escola  Numero_Alunos  \\\n",
       "0                66               79          0     Publica           2917   \n",
       "1                94               61          0     Publica           2917   \n",
       "2                90               60          0     Publica           2917   \n",
       "3                67               58          0     Publica           2917   \n",
       "4                97               84          0     Publica           2917   \n",
       "...             ...              ...        ...         ...            ...   \n",
       "39155            92               98         14  Particular           1635   \n",
       "39156            79               95         14  Particular           1635   \n",
       "39157            79               94         14  Particular           1635   \n",
       "39158            87               90         14  Particular           1635   \n",
       "39159            85               72         14  Particular           1635   \n",
       "\n",
       "       Orcamento_Anual  \n",
       "0              1910635  \n",
       "1              1910635  \n",
       "2              1910635  \n",
       "3              1910635  \n",
       "4              1910635  \n",
       "...                ...  \n",
       "39155          1043130  \n",
       "39156          1043130  \n",
       "39157          1043130  \n",
       "39158          1043130  \n",
       "39159          1043130  \n",
       "\n",
       "[39160 rows x 11 columns]"
      ]
     },
     "execution_count": 10,
     "metadata": {},
     "output_type": "execute_result"
    }
   ],
   "source": [
    "data  = pd.merge(\n",
    "    estudantes,\n",
    "    escolas,\n",
    "    how = 'left',\n",
    "    on = ['Nome_Escola', 'Nome_Escola']\n",
    "                                  )\n",
    "data"
   ]
  },
  {
   "cell_type": "code",
   "execution_count": 11,
   "metadata": {},
   "outputs": [
    {
     "data": {
      "text/plain": [
       "array([6, 9, 8, 7], dtype=int64)"
      ]
     },
     "execution_count": 11,
     "metadata": {},
     "output_type": "execute_result"
    }
   ],
   "source": [
    "\n",
    "data[\"Serie\"].unique()"
   ]
  },
  {
   "cell_type": "code",
   "execution_count": 12,
   "metadata": {},
   "outputs": [
    {
     "data": {
      "text/plain": [
       "array(['M', 'F'], dtype=object)"
      ]
     },
     "execution_count": 12,
     "metadata": {},
     "output_type": "execute_result"
    }
   ],
   "source": [
    "data[\"Genero\"].unique()"
   ]
  },
  {
   "cell_type": "code",
   "execution_count": 13,
   "metadata": {},
   "outputs": [
    {
     "data": {
      "text/plain": [
       "array(['Publica', 'Particular'], dtype=object)"
      ]
     },
     "execution_count": 13,
     "metadata": {},
     "output_type": "execute_result"
    }
   ],
   "source": [
    "data[\"Tipo_Escola\"].unique()"
   ]
  },
  {
   "cell_type": "code",
   "execution_count": null,
   "metadata": {},
   "outputs": [],
   "source": []
  },
  {
   "cell_type": "markdown",
   "metadata": {},
   "source": [
    "### Algumas perguntas:\n",
    "\n",
    "Qual o orçamento total das escolas?"
   ]
  },
  {
   "cell_type": "code",
   "execution_count": 14,
   "metadata": {},
   "outputs": [
    {
     "name": "stdout",
     "output_type": "stream",
     "text": [
      "R$24649428\n"
     ]
    }
   ],
   "source": [
    "custos = escolas[\"Orcamento_Anual\"].sum()\n",
    "print(f\"R${custos}\")"
   ]
  },
  {
   "cell_type": "code",
   "execution_count": 55,
   "metadata": {},
   "outputs": [],
   "source": []
  },
  {
   "cell_type": "markdown",
   "metadata": {},
   "source": [
    "Qual a nota média dos alunos nas disciplinas analisadas?"
   ]
  },
  {
   "cell_type": "code",
   "execution_count": 15,
   "metadata": {},
   "outputs": [],
   "source": [
    "mediaRedacao = data[\"Nota_Redacao\"].mean()"
   ]
  },
  {
   "cell_type": "code",
   "execution_count": null,
   "metadata": {},
   "outputs": [],
   "source": [
    "mediaRedacao"
   ]
  },
  {
   "cell_type": "code",
   "execution_count": 16,
   "metadata": {},
   "outputs": [],
   "source": [
    "\n",
    "mediaMatematica = data[\"Nota_Matematica\"].mean()"
   ]
  },
  {
   "cell_type": "code",
   "execution_count": 17,
   "metadata": {},
   "outputs": [
    {
     "data": {
      "text/plain": [
       "78.98493360572012"
      ]
     },
     "execution_count": 17,
     "metadata": {},
     "output_type": "execute_result"
    }
   ],
   "source": [
    "mediaMatematica"
   ]
  },
  {
   "cell_type": "markdown",
   "metadata": {},
   "source": [
    "### Exibição bonita"
   ]
  },
  {
   "cell_type": "code",
   "execution_count": 18,
   "metadata": {},
   "outputs": [],
   "source": [
    "resultado = pd.DataFrame({\n",
    "    \"Operação\": [\"Média Redação\",\"Média matemática\"],\n",
    "    \"Resultado\": [mediaRedacao,mediaMatematica]\n",
    "})"
   ]
  },
  {
   "cell_type": "code",
   "execution_count": 19,
   "metadata": {},
   "outputs": [
    {
     "name": "stdout",
     "output_type": "stream",
     "text": [
      "           Operação  Resultado\n",
      "0     Média Redação      81.88\n",
      "1  Média matemática      78.98\n"
     ]
    }
   ],
   "source": [
    "resultado[\"Resultado\"] = resultado[\"Resultado\"].round(2)\n",
    "\n",
    "print(resultado)"
   ]
  },
  {
   "cell_type": "markdown",
   "metadata": {},
   "source": [
    "Organizando os resultados"
   ]
  },
  {
   "cell_type": "code",
   "execution_count": null,
   "metadata": {},
   "outputs": [],
   "source": []
  },
  {
   "cell_type": "markdown",
   "metadata": {},
   "source": [
    "Quantos alunos ficaram com nota superior a 90 em redação?"
   ]
  },
  {
   "cell_type": "code",
   "execution_count": 36,
   "metadata": {},
   "outputs": [
    {
     "name": "stdout",
     "output_type": "stream",
     "text": [
      "9973\n"
     ]
    }
   ],
   "source": [
    "highRed = data[data[\"Nota_Redacao\"]>90]\n",
    "print(len(highRed))"
   ]
  },
  {
   "cell_type": "markdown",
   "metadata": {},
   "source": [
    "E qual o percentual?"
   ]
  },
  {
   "cell_type": "code",
   "execution_count": 34,
   "metadata": {},
   "outputs": [
    {
     "name": "stdout",
     "output_type": "stream",
     "text": [
      "25.47%\n"
     ]
    }
   ],
   "source": [
    "percentual = len(data[data[\"Nota_Redacao\"]>90]) / len(estudantes) * 100\n",
    "print(f\"{percentual:.2f}%\")"
   ]
  },
  {
   "cell_type": "markdown",
   "metadata": {},
   "source": [
    "Quantos alunos ficaram com nota superior a 90 em matemática? "
   ]
  },
  {
   "cell_type": "code",
   "execution_count": null,
   "metadata": {},
   "outputs": [],
   "source": []
  },
  {
   "cell_type": "code",
   "execution_count": null,
   "metadata": {},
   "outputs": [],
   "source": []
  },
  {
   "cell_type": "markdown",
   "metadata": {},
   "source": [
    "Qual o percentual?"
   ]
  },
  {
   "cell_type": "code",
   "execution_count": null,
   "metadata": {},
   "outputs": [],
   "source": []
  },
  {
   "cell_type": "markdown",
   "metadata": {},
   "source": [
    "Quantos Alunos tiraram nota maior do que 90 nas duas disciplinas? "
   ]
  },
  {
   "cell_type": "code",
   "execution_count": 47,
   "metadata": {},
   "outputs": [
    {
     "data": {
      "text/plain": [
       "2323"
      ]
     },
     "execution_count": 47,
     "metadata": {},
     "output_type": "execute_result"
    }
   ],
   "source": [
    "highBoth = data[(data[\"Nota_Redacao\"]>90) & (data[\"Nota_Matematica\"]>90)]\n",
    "len(highBoth)"
   ]
  },
  {
   "cell_type": "markdown",
   "metadata": {},
   "source": [
    "Qual o percentual? "
   ]
  },
  {
   "cell_type": "code",
   "execution_count": 48,
   "metadata": {},
   "outputs": [
    {
     "data": {
      "text/plain": [
       "Tipo_Escola\n",
       "Publica       1321\n",
       "Particular    1002\n",
       "Name: count, dtype: int64"
      ]
     },
     "execution_count": 48,
     "metadata": {},
     "output_type": "execute_result"
    }
   ],
   "source": [
    "highBoth[\"Tipo_Escola\"].value_counts()"
   ]
  },
  {
   "cell_type": "code",
   "execution_count": 55,
   "metadata": {},
   "outputs": [
    {
     "data": {
      "text/plain": [
       "Nome_Escola\n",
       "Escola D    252\n",
       "Escola H    252\n",
       "Escola M    239\n",
       "Escola L    183\n",
       "Escola F    172\n",
       "Escola G    155\n",
       "Escola K    153\n",
       "Escola A    143\n",
       "Escola B    142\n",
       "Escola C    129\n",
       "Escola O    129\n",
       "Escola E    126\n",
       "Escola N    110\n",
       "Escola J     96\n",
       "Escola I     42\n",
       "Name: count, dtype: int64"
      ]
     },
     "execution_count": 55,
     "metadata": {},
     "output_type": "execute_result"
    }
   ],
   "source": [
    "highBoth[\"Nome_Escola\"].value_counts()"
   ]
  },
  {
   "cell_type": "code",
   "execution_count": 65,
   "metadata": {},
   "outputs": [
    {
     "data": {
      "text/plain": [
       "Genero\n",
       "M    1167\n",
       "F    1156\n",
       "Name: count, dtype: int64"
      ]
     },
     "execution_count": 65,
     "metadata": {},
     "output_type": "execute_result"
    }
   ],
   "source": [
    "highBoth[\"Genero\"].value_counts()"
   ]
  },
  {
   "cell_type": "markdown",
   "metadata": {},
   "source": [
    "Quantos alunos que obtiveram alto desempenho em ambas as disciplinas são de escolas públicas?"
   ]
  },
  {
   "cell_type": "code",
   "execution_count": null,
   "metadata": {},
   "outputs": [],
   "source": []
  },
  {
   "cell_type": "markdown",
   "metadata": {},
   "source": [
    "Quantas alunas obtiveram alto desempenho em ambas as disciplinas?"
   ]
  },
  {
   "cell_type": "code",
   "execution_count": null,
   "metadata": {},
   "outputs": [],
   "source": []
  },
  {
   "cell_type": "markdown",
   "metadata": {},
   "source": [
    "Como ficou a distribuição dos alunos de alto desempenho pelas série?"
   ]
  },
  {
   "cell_type": "code",
   "execution_count": null,
   "metadata": {},
   "outputs": [],
   "source": []
  },
  {
   "cell_type": "markdown",
   "metadata": {},
   "source": [
    "Qual o total por escolas? "
   ]
  },
  {
   "cell_type": "code",
   "execution_count": null,
   "metadata": {},
   "outputs": [],
   "source": []
  },
  {
   "cell_type": "code",
   "execution_count": null,
   "metadata": {},
   "outputs": [],
   "source": []
  },
  {
   "cell_type": "markdown",
   "metadata": {},
   "source": [
    "Qual o orçamento per capita de cada escola?"
   ]
  },
  {
   "cell_type": "code",
   "execution_count": 75,
   "metadata": {},
   "outputs": [],
   "source": [
    "perCapita = escolas[\"Orcamento_Anual\"]/escolas[\"Numero_Alunos\"]\n",
    "escolas[\"Per_Capita\"] = perCapita"
   ]
  },
  {
   "cell_type": "code",
   "execution_count": 78,
   "metadata": {},
   "outputs": [
    {
     "data": {
      "text/html": [
       "<div>\n",
       "<style scoped>\n",
       "    .dataframe tbody tr th:only-of-type {\n",
       "        vertical-align: middle;\n",
       "    }\n",
       "\n",
       "    .dataframe tbody tr th {\n",
       "        vertical-align: top;\n",
       "    }\n",
       "\n",
       "    .dataframe thead th {\n",
       "        text-align: right;\n",
       "    }\n",
       "</style>\n",
       "<table border=\"1\" class=\"dataframe\">\n",
       "  <thead>\n",
       "    <tr style=\"text-align: right;\">\n",
       "      <th></th>\n",
       "      <th>ID_Escola</th>\n",
       "      <th>Nome_Escola</th>\n",
       "      <th>Tipo_Escola</th>\n",
       "      <th>Numero_Alunos</th>\n",
       "      <th>Orcamento_Anual</th>\n",
       "      <th>Per_Capita</th>\n",
       "    </tr>\n",
       "  </thead>\n",
       "  <tbody>\n",
       "    <tr>\n",
       "      <th>0</th>\n",
       "      <td>0</td>\n",
       "      <td>Escola A</td>\n",
       "      <td>Publica</td>\n",
       "      <td>2917</td>\n",
       "      <td>1910635</td>\n",
       "      <td>655.0</td>\n",
       "    </tr>\n",
       "    <tr>\n",
       "      <th>1</th>\n",
       "      <td>1</td>\n",
       "      <td>Escola B</td>\n",
       "      <td>Publica</td>\n",
       "      <td>2949</td>\n",
       "      <td>1884411</td>\n",
       "      <td>639.0</td>\n",
       "    </tr>\n",
       "    <tr>\n",
       "      <th>2</th>\n",
       "      <td>2</td>\n",
       "      <td>Escola C</td>\n",
       "      <td>Particular</td>\n",
       "      <td>1761</td>\n",
       "      <td>1056600</td>\n",
       "      <td>600.0</td>\n",
       "    </tr>\n",
       "    <tr>\n",
       "      <th>3</th>\n",
       "      <td>3</td>\n",
       "      <td>Escola D</td>\n",
       "      <td>Publica</td>\n",
       "      <td>4635</td>\n",
       "      <td>3022020</td>\n",
       "      <td>652.0</td>\n",
       "    </tr>\n",
       "    <tr>\n",
       "      <th>4</th>\n",
       "      <td>4</td>\n",
       "      <td>Escola E</td>\n",
       "      <td>Particular</td>\n",
       "      <td>1468</td>\n",
       "      <td>917500</td>\n",
       "      <td>625.0</td>\n",
       "    </tr>\n",
       "    <tr>\n",
       "      <th>5</th>\n",
       "      <td>5</td>\n",
       "      <td>Escola F</td>\n",
       "      <td>Particular</td>\n",
       "      <td>2283</td>\n",
       "      <td>1319574</td>\n",
       "      <td>578.0</td>\n",
       "    </tr>\n",
       "    <tr>\n",
       "      <th>6</th>\n",
       "      <td>6</td>\n",
       "      <td>Escola G</td>\n",
       "      <td>Particular</td>\n",
       "      <td>1858</td>\n",
       "      <td>1081356</td>\n",
       "      <td>582.0</td>\n",
       "    </tr>\n",
       "    <tr>\n",
       "      <th>7</th>\n",
       "      <td>7</td>\n",
       "      <td>Escola H</td>\n",
       "      <td>Publica</td>\n",
       "      <td>4976</td>\n",
       "      <td>3124928</td>\n",
       "      <td>628.0</td>\n",
       "    </tr>\n",
       "    <tr>\n",
       "      <th>8</th>\n",
       "      <td>8</td>\n",
       "      <td>Escola I</td>\n",
       "      <td>Particular</td>\n",
       "      <td>427</td>\n",
       "      <td>248087</td>\n",
       "      <td>581.0</td>\n",
       "    </tr>\n",
       "    <tr>\n",
       "      <th>9</th>\n",
       "      <td>9</td>\n",
       "      <td>Escola J</td>\n",
       "      <td>Particular</td>\n",
       "      <td>962</td>\n",
       "      <td>585858</td>\n",
       "      <td>609.0</td>\n",
       "    </tr>\n",
       "    <tr>\n",
       "      <th>10</th>\n",
       "      <td>10</td>\n",
       "      <td>Escola K</td>\n",
       "      <td>Particular</td>\n",
       "      <td>1800</td>\n",
       "      <td>1049400</td>\n",
       "      <td>583.0</td>\n",
       "    </tr>\n",
       "    <tr>\n",
       "      <th>11</th>\n",
       "      <td>11</td>\n",
       "      <td>Escola L</td>\n",
       "      <td>Publica</td>\n",
       "      <td>3999</td>\n",
       "      <td>2547363</td>\n",
       "      <td>637.0</td>\n",
       "    </tr>\n",
       "    <tr>\n",
       "      <th>12</th>\n",
       "      <td>12</td>\n",
       "      <td>Escola M</td>\n",
       "      <td>Publica</td>\n",
       "      <td>4761</td>\n",
       "      <td>3094650</td>\n",
       "      <td>650.0</td>\n",
       "    </tr>\n",
       "    <tr>\n",
       "      <th>13</th>\n",
       "      <td>13</td>\n",
       "      <td>Escola N</td>\n",
       "      <td>Publica</td>\n",
       "      <td>2739</td>\n",
       "      <td>1763916</td>\n",
       "      <td>644.0</td>\n",
       "    </tr>\n",
       "    <tr>\n",
       "      <th>14</th>\n",
       "      <td>14</td>\n",
       "      <td>Escola O</td>\n",
       "      <td>Particular</td>\n",
       "      <td>1635</td>\n",
       "      <td>1043130</td>\n",
       "      <td>638.0</td>\n",
       "    </tr>\n",
       "  </tbody>\n",
       "</table>\n",
       "</div>"
      ],
      "text/plain": [
       "    ID_Escola Nome_Escola Tipo_Escola  Numero_Alunos  Orcamento_Anual  \\\n",
       "0           0    Escola A     Publica           2917          1910635   \n",
       "1           1    Escola B     Publica           2949          1884411   \n",
       "2           2    Escola C  Particular           1761          1056600   \n",
       "3           3    Escola D     Publica           4635          3022020   \n",
       "4           4    Escola E  Particular           1468           917500   \n",
       "5           5    Escola F  Particular           2283          1319574   \n",
       "6           6    Escola G  Particular           1858          1081356   \n",
       "7           7    Escola H     Publica           4976          3124928   \n",
       "8           8    Escola I  Particular            427           248087   \n",
       "9           9    Escola J  Particular            962           585858   \n",
       "10         10    Escola K  Particular           1800          1049400   \n",
       "11         11    Escola L     Publica           3999          2547363   \n",
       "12         12    Escola M     Publica           4761          3094650   \n",
       "13         13    Escola N     Publica           2739          1763916   \n",
       "14         14    Escola O  Particular           1635          1043130   \n",
       "\n",
       "    Per_Capita  \n",
       "0        655.0  \n",
       "1        639.0  \n",
       "2        600.0  \n",
       "3        652.0  \n",
       "4        625.0  \n",
       "5        578.0  \n",
       "6        582.0  \n",
       "7        628.0  \n",
       "8        581.0  \n",
       "9        609.0  \n",
       "10       583.0  \n",
       "11       637.0  \n",
       "12       650.0  \n",
       "13       644.0  \n",
       "14       638.0  "
      ]
     },
     "execution_count": 78,
     "metadata": {},
     "output_type": "execute_result"
    }
   ],
   "source": [
    "escolas"
   ]
  },
  {
   "cell_type": "markdown",
   "metadata": {},
   "source": [
    "Quais foram as escolas mais eficientes? \n",
    "\n",
    "Para tentar responder essa pergunta vamos adicionar o percentual de alunos de alto desempenho ao nosso dataset."
   ]
  },
  {
   "cell_type": "code",
   "execution_count": null,
   "metadata": {},
   "outputs": [],
   "source": []
  },
  {
   "cell_type": "code",
   "execution_count": null,
   "metadata": {},
   "outputs": [],
   "source": []
  },
  {
   "cell_type": "code",
   "execution_count": null,
   "metadata": {},
   "outputs": [],
   "source": []
  },
  {
   "cell_type": "markdown",
   "metadata": {},
   "source": [
    "### Agrupando por Nome_Escola e Tipo_Escola e contando número de registros"
   ]
  },
  {
   "cell_type": "code",
   "execution_count": 69,
   "metadata": {},
   "outputs": [
    {
     "name": "stdout",
     "output_type": "stream",
     "text": [
      "Nome_Escola  Tipo_Escola\n",
      "Escola D     Publica        252\n",
      "Escola H     Publica        252\n",
      "Escola M     Publica        239\n",
      "Escola L     Publica        183\n",
      "Escola F     Particular     172\n",
      "Escola G     Particular     155\n",
      "Escola K     Particular     153\n",
      "Escola A     Publica        143\n",
      "Escola B     Publica        142\n",
      "Escola C     Particular     129\n",
      "Escola O     Particular     129\n",
      "Escola E     Particular     126\n",
      "Escola N     Publica        110\n",
      "Escola J     Particular      96\n",
      "Escola I     Particular      42\n",
      "dtype: int64\n"
     ]
    }
   ],
   "source": [
    "sumario =  highBoth.groupby([\"Nome_Escola\", \"Tipo_Escola\"]).size().sort_values(ascending = False)\n",
    "print(sumario)"
   ]
  }
 ],
 "metadata": {
  "kernelspec": {
   "display_name": "venv",
   "language": "python",
   "name": "python3"
  },
  "language_info": {
   "codemirror_mode": {
    "name": "ipython",
    "version": 3
   },
   "file_extension": ".py",
   "mimetype": "text/x-python",
   "name": "python",
   "nbconvert_exporter": "python",
   "pygments_lexer": "ipython3",
   "version": "3.12.2"
  }
 },
 "nbformat": 4,
 "nbformat_minor": 2
}
